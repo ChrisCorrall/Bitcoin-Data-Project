{
 "cells": [
  {
   "cell_type": "code",
   "execution_count": 1,
   "metadata": {
    "collapsed": true
   },
   "outputs": [],
   "source": [
    "# Move To Correct Directory\n",
    "import os\n",
    "os.chdir(\"C:\\\\Users\\Chris\\Desktop\\Linkbuilder stuff\\TotalCrypto Data\")"
   ]
  },
  {
   "cell_type": "code",
   "execution_count": 2,
   "metadata": {
    "collapsed": true
   },
   "outputs": [],
   "source": [
    "import pandas as pd"
   ]
  },
  {
   "cell_type": "code",
   "execution_count": 3,
   "metadata": {
    "collapsed": true
   },
   "outputs": [],
   "source": [
    "# Get the data\n",
    "BTC_df = pd.read_csv(\"bitcoinity_data_BTC_price_5y.csv\", index_col=0)\n",
    "Commodities_df = pd.read_csv(\"IMF_Commodity_data_csv.csv\", header = 1, index_col=0)"
   ]
  },
  {
   "cell_type": "code",
   "execution_count": 4,
   "metadata": {
    "scrolled": true
   },
   "outputs": [
    {
     "data": {
      "text/html": [
       "<div>\n",
       "<style scoped>\n",
       "    .dataframe tbody tr th:only-of-type {\n",
       "        vertical-align: middle;\n",
       "    }\n",
       "\n",
       "    .dataframe tbody tr th {\n",
       "        vertical-align: top;\n",
       "    }\n",
       "\n",
       "    .dataframe thead th {\n",
       "        text-align: right;\n",
       "    }\n",
       "</style>\n",
       "<table border=\"1\" class=\"dataframe\">\n",
       "  <thead>\n",
       "    <tr style=\"text-align: right;\">\n",
       "      <th></th>\n",
       "      <th>All Commodity Price Index, 2016 = 100, includes both Fuel and Non-Fuel Price Indices</th>\n",
       "      <th>Commodities for Index: All, excluding Gold, 2016 = 100</th>\n",
       "      <th>Non-Fuel Price Index, 2016 = 100, includes Precious Metal, Food and Beverages and Industrial Inputs Price Indices</th>\n",
       "      <th>Food and Beverage Price Index, 2016 = 100, includes Food and Beverage Price Indices</th>\n",
       "      <th>Food Price Index, 2016 = 100, includes Cereal, Vegetable Oils, Meat, Seafood, Sugar, and Other Food (Apple (non-citrus fruit), Bananas, Chana (legumes), Fishmeal, Groundnuts, Milk (dairy), Tomato (veg)) Price Indices</th>\n",
       "      <th>Beverage Price Index, 2016 = 100, includes Coffee, Tea, and Cocoa</th>\n",
       "      <th>Industrial Inputs Price Index, 2016 = 100, includes Agricultural Raw Materials and Base Metals Price Indices</th>\n",
       "      <th>Agriculture Price Index, 2016 = 100, includes Food and Beverages and Agriculture Raw Materials Price Indices</th>\n",
       "      <th>Agricultural Raw Materials Index, 2016 = 100, includes Timber, Cotton, Wool, Rubber, and Hides Price Indices</th>\n",
       "      <th>All Metals Index, 2016 = 100: includes Metal Price Index (Base Metals) and Precious Metals Index</th>\n",
       "      <th>...</th>\n",
       "      <th>Palladium, LME spot price, USD/ troy ounce</th>\n",
       "      <th>Platinum, LME spot price, USD/troy ounce</th>\n",
       "      <th>North American Spot LPG Propane Price/Mont Belvieu LST</th>\n",
       "      <th>US Gulf NOLA Urea Granular Spot Price, USD/ST</th>\n",
       "      <th>Potassium Chloride (Muriate of Potash) Standard Grade: FOB Vancouver Spot Price, USD/metric tonne</th>\n",
       "      <th>US Gulf NOLA DAP Export Spot Price per MT, USD/metric tonne</th>\n",
       "      <th>Monthly average consumer prices in metropolitan France - Tomatoes (1 Kg), EUR</th>\n",
       "      <th>USDA Class 3 (formerly known as Basic Formula) Milk Spot Price, USD/cwt</th>\n",
       "      <th>MCX India Chana Spot, INR/100 Kgs</th>\n",
       "      <th>Monthly average consumer prices in metropolitan France - Apples (1 Kg), EUR</th>\n",
       "    </tr>\n",
       "    <tr>\n",
       "      <th>Date</th>\n",
       "      <th></th>\n",
       "      <th></th>\n",
       "      <th></th>\n",
       "      <th></th>\n",
       "      <th></th>\n",
       "      <th></th>\n",
       "      <th></th>\n",
       "      <th></th>\n",
       "      <th></th>\n",
       "      <th></th>\n",
       "      <th></th>\n",
       "      <th></th>\n",
       "      <th></th>\n",
       "      <th></th>\n",
       "      <th></th>\n",
       "      <th></th>\n",
       "      <th></th>\n",
       "      <th></th>\n",
       "      <th></th>\n",
       "      <th></th>\n",
       "      <th></th>\n",
       "    </tr>\n",
       "  </thead>\n",
       "  <tbody>\n",
       "    <tr>\n",
       "      <th>Data Type</th>\n",
       "      <td>Index</td>\n",
       "      <td>Index</td>\n",
       "      <td>Index</td>\n",
       "      <td>Index</td>\n",
       "      <td>Index</td>\n",
       "      <td>Index</td>\n",
       "      <td>Index</td>\n",
       "      <td>Index</td>\n",
       "      <td>Index</td>\n",
       "      <td>Index</td>\n",
       "      <td>...</td>\n",
       "      <td>USD</td>\n",
       "      <td>USD</td>\n",
       "      <td>USD</td>\n",
       "      <td>USD</td>\n",
       "      <td>USD</td>\n",
       "      <td>USD</td>\n",
       "      <td>USD</td>\n",
       "      <td>USD</td>\n",
       "      <td>USD</td>\n",
       "      <td>USD</td>\n",
       "    </tr>\n",
       "    <tr>\n",
       "      <th>Frequency</th>\n",
       "      <td>Monthly</td>\n",
       "      <td>Monthly</td>\n",
       "      <td>Monthly</td>\n",
       "      <td>Monthly</td>\n",
       "      <td>Monthly</td>\n",
       "      <td>Monthly</td>\n",
       "      <td>Monthly</td>\n",
       "      <td>Monthly</td>\n",
       "      <td>Monthly</td>\n",
       "      <td>Monthly</td>\n",
       "      <td>...</td>\n",
       "      <td>Monthly</td>\n",
       "      <td>Monthly</td>\n",
       "      <td>Monthly</td>\n",
       "      <td>Monthly</td>\n",
       "      <td>Monthly</td>\n",
       "      <td>Monthly</td>\n",
       "      <td>Monthly</td>\n",
       "      <td>Monthly</td>\n",
       "      <td>Monthly</td>\n",
       "      <td>Monthly</td>\n",
       "    </tr>\n",
       "    <tr>\n",
       "      <th>1980M1</th>\n",
       "      <td>NaN</td>\n",
       "      <td>NaN</td>\n",
       "      <td>NaN</td>\n",
       "      <td>NaN</td>\n",
       "      <td>NaN</td>\n",
       "      <td>124.374</td>\n",
       "      <td>NaN</td>\n",
       "      <td>NaN</td>\n",
       "      <td>69.466</td>\n",
       "      <td>NaN</td>\n",
       "      <td>...</td>\n",
       "      <td>NaN</td>\n",
       "      <td>806.79</td>\n",
       "      <td>NaN</td>\n",
       "      <td>150.00</td>\n",
       "      <td>100.00</td>\n",
       "      <td>261.32</td>\n",
       "      <td>NaN</td>\n",
       "      <td>NaN</td>\n",
       "      <td>NaN</td>\n",
       "      <td>NaN</td>\n",
       "    </tr>\n",
       "    <tr>\n",
       "      <th>1980M2</th>\n",
       "      <td>NaN</td>\n",
       "      <td>NaN</td>\n",
       "      <td>NaN</td>\n",
       "      <td>NaN</td>\n",
       "      <td>NaN</td>\n",
       "      <td>124.357</td>\n",
       "      <td>NaN</td>\n",
       "      <td>NaN</td>\n",
       "      <td>72.604</td>\n",
       "      <td>NaN</td>\n",
       "      <td>...</td>\n",
       "      <td>NaN</td>\n",
       "      <td>882.32</td>\n",
       "      <td>NaN</td>\n",
       "      <td>160.71</td>\n",
       "      <td>115.00</td>\n",
       "      <td>258.10</td>\n",
       "      <td>NaN</td>\n",
       "      <td>NaN</td>\n",
       "      <td>NaN</td>\n",
       "      <td>NaN</td>\n",
       "    </tr>\n",
       "    <tr>\n",
       "      <th>1980M3</th>\n",
       "      <td>NaN</td>\n",
       "      <td>NaN</td>\n",
       "      <td>NaN</td>\n",
       "      <td>NaN</td>\n",
       "      <td>NaN</td>\n",
       "      <td>129.212</td>\n",
       "      <td>NaN</td>\n",
       "      <td>NaN</td>\n",
       "      <td>68.529</td>\n",
       "      <td>NaN</td>\n",
       "      <td>...</td>\n",
       "      <td>NaN</td>\n",
       "      <td>746.54</td>\n",
       "      <td>NaN</td>\n",
       "      <td>165.00</td>\n",
       "      <td>115.00</td>\n",
       "      <td>259.86</td>\n",
       "      <td>NaN</td>\n",
       "      <td>NaN</td>\n",
       "      <td>NaN</td>\n",
       "      <td>NaN</td>\n",
       "    </tr>\n",
       "  </tbody>\n",
       "</table>\n",
       "<p>5 rows × 86 columns</p>\n",
       "</div>"
      ],
      "text/plain": [
       "          All Commodity Price Index, 2016 = 100, includes both Fuel and Non-Fuel Price Indices  \\\n",
       "Date                                                                                             \n",
       "Data Type                                              Index                                     \n",
       "Frequency                                            Monthly                                     \n",
       "1980M1                                                   NaN                                     \n",
       "1980M2                                                   NaN                                     \n",
       "1980M3                                                   NaN                                     \n",
       "\n",
       "          Commodities for Index: All, excluding Gold, 2016 = 100  \\\n",
       "Date                                                               \n",
       "Data Type                                              Index       \n",
       "Frequency                                            Monthly       \n",
       "1980M1                                                   NaN       \n",
       "1980M2                                                   NaN       \n",
       "1980M3                                                   NaN       \n",
       "\n",
       "          Non-Fuel Price Index, 2016 = 100, includes Precious Metal, Food and Beverages and Industrial Inputs Price Indices  \\\n",
       "Date                                                                                                                          \n",
       "Data Type                                              Index                                                                  \n",
       "Frequency                                            Monthly                                                                  \n",
       "1980M1                                                   NaN                                                                  \n",
       "1980M2                                                   NaN                                                                  \n",
       "1980M3                                                   NaN                                                                  \n",
       "\n",
       "          Food and Beverage Price Index, 2016 = 100, includes Food and Beverage Price Indices  \\\n",
       "Date                                                                                            \n",
       "Data Type                                              Index                                    \n",
       "Frequency                                            Monthly                                    \n",
       "1980M1                                                   NaN                                    \n",
       "1980M2                                                   NaN                                    \n",
       "1980M3                                                   NaN                                    \n",
       "\n",
       "          Food Price Index, 2016 = 100, includes Cereal, Vegetable Oils, Meat, Seafood, Sugar, and Other Food (Apple (non-citrus fruit), Bananas, Chana (legumes), Fishmeal, Groundnuts, Milk (dairy), Tomato (veg)) Price Indices  \\\n",
       "Date                                                                                                                                                                                                                                 \n",
       "Data Type                                              Index                                                                                                                                                                         \n",
       "Frequency                                            Monthly                                                                                                                                                                         \n",
       "1980M1                                                   NaN                                                                                                                                                                         \n",
       "1980M2                                                   NaN                                                                                                                                                                         \n",
       "1980M3                                                   NaN                                                                                                                                                                         \n",
       "\n",
       "          Beverage Price Index, 2016 = 100, includes Coffee, Tea, and Cocoa  \\\n",
       "Date                                                                          \n",
       "Data Type                                              Index                  \n",
       "Frequency                                            Monthly                  \n",
       "1980M1                                               124.374                  \n",
       "1980M2                                               124.357                  \n",
       "1980M3                                               129.212                  \n",
       "\n",
       "          Industrial Inputs Price Index, 2016 = 100, includes Agricultural Raw Materials and Base Metals Price Indices  \\\n",
       "Date                                                                                                                     \n",
       "Data Type                                              Index                                                             \n",
       "Frequency                                            Monthly                                                             \n",
       "1980M1                                                   NaN                                                             \n",
       "1980M2                                                   NaN                                                             \n",
       "1980M3                                                   NaN                                                             \n",
       "\n",
       "          Agriculture Price Index, 2016 = 100, includes Food and Beverages and Agriculture Raw Materials Price Indices  \\\n",
       "Date                                                                                                                     \n",
       "Data Type                                              Index                                                             \n",
       "Frequency                                            Monthly                                                             \n",
       "1980M1                                                   NaN                                                             \n",
       "1980M2                                                   NaN                                                             \n",
       "1980M3                                                   NaN                                                             \n",
       "\n",
       "          Agricultural Raw Materials Index, 2016 = 100, includes Timber, Cotton, Wool, Rubber, and Hides Price Indices  \\\n",
       "Date                                                                                                                     \n",
       "Data Type                                              Index                                                             \n",
       "Frequency                                            Monthly                                                             \n",
       "1980M1                                                69.466                                                             \n",
       "1980M2                                                72.604                                                             \n",
       "1980M3                                                68.529                                                             \n",
       "\n",
       "          All Metals Index, 2016 = 100: includes Metal Price Index (Base Metals) and Precious Metals Index  \\\n",
       "Date                                                                                                         \n",
       "Data Type                                              Index                                                 \n",
       "Frequency                                            Monthly                                                 \n",
       "1980M1                                                   NaN                                                 \n",
       "1980M2                                                   NaN                                                 \n",
       "1980M3                                                   NaN                                                 \n",
       "\n",
       "                                              ...                                      \\\n",
       "Date                                          ...                                       \n",
       "Data Type                                     ...                                       \n",
       "Frequency                                     ...                                       \n",
       "1980M1                                        ...                                       \n",
       "1980M2                                        ...                                       \n",
       "1980M3                                        ...                                       \n",
       "\n",
       "          Palladium, LME spot price, USD/ troy ounce  \\\n",
       "Date                                                   \n",
       "Data Type                                        USD   \n",
       "Frequency                                    Monthly   \n",
       "1980M1                                           NaN   \n",
       "1980M2                                           NaN   \n",
       "1980M3                                           NaN   \n",
       "\n",
       "          Platinum, LME spot price, USD/troy ounce  \\\n",
       "Date                                                 \n",
       "Data Type                                      USD   \n",
       "Frequency                                  Monthly   \n",
       "1980M1                                      806.79   \n",
       "1980M2                                      882.32   \n",
       "1980M3                                      746.54   \n",
       "\n",
       "          North American Spot LPG Propane Price/Mont Belvieu LST  \\\n",
       "Date                                                               \n",
       "Data Type                                                USD       \n",
       "Frequency                                            Monthly       \n",
       "1980M1                                                   NaN       \n",
       "1980M2                                                   NaN       \n",
       "1980M3                                                   NaN       \n",
       "\n",
       "          US Gulf NOLA Urea Granular Spot Price, USD/ST  \\\n",
       "Date                                                      \n",
       "Data Type                                           USD   \n",
       "Frequency                                       Monthly   \n",
       "1980M1                                           150.00   \n",
       "1980M2                                           160.71   \n",
       "1980M3                                           165.00   \n",
       "\n",
       "          Potassium Chloride (Muriate of Potash) Standard Grade: FOB Vancouver Spot Price, USD/metric tonne  \\\n",
       "Date                                                                                                          \n",
       "Data Type                                                USD                                                  \n",
       "Frequency                                            Monthly                                                  \n",
       "1980M1                                                100.00                                                  \n",
       "1980M2                                                115.00                                                  \n",
       "1980M3                                                115.00                                                  \n",
       "\n",
       "          US Gulf NOLA DAP Export Spot Price per MT, USD/metric tonne  \\\n",
       "Date                                                                    \n",
       "Data Type                                                USD            \n",
       "Frequency                                            Monthly            \n",
       "1980M1                                                261.32            \n",
       "1980M2                                                258.10            \n",
       "1980M3                                                259.86            \n",
       "\n",
       "          Monthly average consumer prices in metropolitan France - Tomatoes (1 Kg), EUR  \\\n",
       "Date                                                                                      \n",
       "Data Type                                                USD                              \n",
       "Frequency                                            Monthly                              \n",
       "1980M1                                                   NaN                              \n",
       "1980M2                                                   NaN                              \n",
       "1980M3                                                   NaN                              \n",
       "\n",
       "          USDA Class 3 (formerly known as Basic Formula) Milk Spot Price, USD/cwt  \\\n",
       "Date                                                                                \n",
       "Data Type                                                USD                        \n",
       "Frequency                                            Monthly                        \n",
       "1980M1                                                   NaN                        \n",
       "1980M2                                                   NaN                        \n",
       "1980M3                                                   NaN                        \n",
       "\n",
       "          MCX India Chana Spot, INR/100 Kgs  \\\n",
       "Date                                          \n",
       "Data Type                               USD   \n",
       "Frequency                           Monthly   \n",
       "1980M1                                  NaN   \n",
       "1980M2                                  NaN   \n",
       "1980M3                                  NaN   \n",
       "\n",
       "          Monthly average consumer prices in metropolitan France - Apples (1 Kg), EUR  \n",
       "Date                                                                                   \n",
       "Data Type                                                USD                           \n",
       "Frequency                                            Monthly                           \n",
       "1980M1                                                   NaN                           \n",
       "1980M2                                                   NaN                           \n",
       "1980M3                                                   NaN                           \n",
       "\n",
       "[5 rows x 86 columns]"
      ]
     },
     "execution_count": 4,
     "metadata": {},
     "output_type": "execute_result"
    }
   ],
   "source": [
    "Commodities_df = Commodities_df.rename_axis('Date')\n",
    "Commodities_df.head()"
   ]
  },
  {
   "cell_type": "code",
   "execution_count": 75,
   "metadata": {},
   "outputs": [
    {
     "name": "stderr",
     "output_type": "stream",
     "text": [
      "C:\\Users\\Chris\\Anaconda3\\lib\\site-packages\\ipykernel_launcher.py:5: FutureWarning: convert_objects is deprecated.  To re-infer data dtypes for object columns, use DataFrame.infer_objects()\n",
      "For all other conversions use the data-type specific converters pd.to_datetime, pd.to_timedelta and pd.to_numeric.\n",
      "  \"\"\"\n"
     ]
    }
   ],
   "source": [
    "## Clean up commodities data\n",
    "# Start by removing years for which bitcoin data does not cover (prior to 2014)\n",
    "# This will also remove all the NaN values from earlier years\n",
    "clean_comm_df = Commodities_df.loc['2014M3':'2019M2'] # Note we start in March becase that's where the BTC data starts \n",
    "clean_comm_df = clean_comm_df.convert_objects(convert_numeric=True)"
   ]
  },
  {
   "cell_type": "code",
   "execution_count": 76,
   "metadata": {},
   "outputs": [
    {
     "data": {
      "text/plain": [
       "All Commodity Price Index, 2016 = 100, includes both Fuel and Non-Fuel Price Indices                                                                                                                                        float64\n",
       "Commodities for Index: All, excluding Gold, 2016 = 100                                                                                                                                                                      float64\n",
       "Non-Fuel Price Index, 2016 = 100, includes Precious Metal, Food and Beverages and Industrial Inputs Price Indices                                                                                                           float64\n",
       "Food and Beverage Price Index, 2016 = 100, includes Food and Beverage Price Indices                                                                                                                                         float64\n",
       "Food Price Index, 2016 = 100, includes Cereal, Vegetable Oils, Meat, Seafood, Sugar, and Other Food (Apple (non-citrus fruit), Bananas, Chana (legumes), Fishmeal, Groundnuts, Milk (dairy), Tomato (veg)) Price Indices    float64\n",
       "Beverage Price Index, 2016 = 100, includes Coffee, Tea, and Cocoa                                                                                                                                                           float64\n",
       "Industrial Inputs Price Index, 2016 = 100, includes Agricultural Raw Materials and Base Metals Price Indices                                                                                                                float64\n",
       "Agriculture Price Index, 2016 = 100, includes Food and Beverages and Agriculture Raw Materials Price Indices                                                                                                                float64\n",
       "Agricultural Raw Materials Index, 2016 = 100, includes Timber, Cotton, Wool, Rubber, and Hides Price Indices                                                                                                                float64\n",
       "All Metals Index, 2016 = 100: includes Metal Price Index (Base Metals) and Precious Metals Index                                                                                                                            float64\n",
       "Base Metals Price Index, 2016 = 100, includes Aluminum, Cobalt, Copper, Iron Ore, Lead, Molybdenum, Nickel, Tin, Uranium and Zinc Price Indices                                                                             float64\n",
       "Precious Metals Price Index, 2016 = 100, includes Gold, Silver, Palladium and Platinum Price Indices                                                                                                                        float64\n",
       "All Metals EX GOLD Index, 2016 = 100: includes Metal Price Index (Base Metals) and ONLY Silver, Palladium, Platinum                                                                                                         float64\n",
       "Fertilizer Index, 2016 = 100, includes DAP, Potash, UREA                                                                                                                                                                    float64\n",
       "Fuel (Energy) Index, 2016 = 100, includes Crude oil (petroleum), Natural Gas, Coal Price and Propane Indices                                                                                                                float64\n",
       "Crude Oil (petroleum), Price index, 2016 = 100, simple average of three spot prices; Dated Brent, West Texas Intermediate, and the Dubai Fateh                                                                              float64\n",
       "Natural Gas Price Index, 2016 = 100, includes European, Japanese, and American Natural Gas Price Indices                                                                                                                    float64\n",
       "Coal Price Index, 2016 = 100, includes Australian and South African Coal                                                                                                                                                    float64\n",
       "Aluminum, 99.5% minimum purity, LME spot price, CIF UK ports, US$ per metric ton                                                                                                                                            float64\n",
       "Bananas, Central American and Ecuador, FOB U.S. Ports, US$ per metric ton                                                                                                                                                   float64\n",
       "Barley, Canadian no.1 Western Barley, spot price, US$ per metric ton                                                                                                                                                        float64\n",
       "Beef, Australian and New Zealand 85% lean fores, CIF U.S. import price, US cents per pound                                                                                                                                  float64\n",
       "Coal, Australian thermal coal, 12,000- btu/pound, less than 1% sulfur, 14% ash, FOB Newcastle/Port Kembla, US$ per metric ton                                                                                               float64\n",
       "Cocoa beans, International Cocoa Organization cash price, CIF US and European ports, US$ per metric ton                                                                                                                     float64\n",
       "Coffee, Other Mild Arabicas, International Coffee Organization New York cash price, ex-dock New York, US cents per pound                                                                                                    float64\n",
       "Coffee, Robusta, International Coffee Organization New York cash price, ex-dock New York, US cents per pound                                                                                                                float64\n",
       "Rapeseed oil, crude, fob Rotterdam, US$ per metric ton                                                                                                                                                                      float64\n",
       "Copper, grade A cathode, LME spot price, CIF European ports, US$ per metric ton                                                                                                                                             float64\n",
       "Cotton, Cotton Outlook 'A Index', Middling 1-3/32 inch staple, CIF Liverpool, US cents per pound                                                                                                                            float64\n",
       "Fishmeal, Peru Fish meal/pellets 65% protein, CIF, US$ per metric ton                                                                                                                                                       float64\n",
       "                                                                                                                                                                                                                             ...   \n",
       "Thailand Whiteleg Shrimp 70 Shrimps/Kg Spot Price                                                                                                                                                                           float64\n",
       "Soybean Meal, Chicago Soybean Meal Futures (first contract forward) Minimum 48 percent protein, US$ per metric ton                                                                                                          float64\n",
       "Soybean Oil, Chicago Soybean Oil Futures (first contract forward) exchange approved grades, US$ per metric ton                                                                                                              float64\n",
       "Soybeans, U.S. soybeans, Chicago Soybean futures contract (first contract forward) No. 2 yellow and par, US$ per metric ton                                                                                                 float64\n",
       "Sugar, Free Market, Coffee Sugar and Cocoa Exchange (CSCE) contract no.11 nearest future position, US cents per pound                                                                                                       float64\n",
       "Sugar, U.S. import price, contract no.14 nearest futures position, US cents per pound (Footnote: No. 14 revised to No. 16)                                                                                                  float64\n",
       "Sunflower oil, Sunflower Oil, US export price from Gulf of Mexico, US$ per metric ton                                                                                                                                       float64\n",
       "Tea, Mombasa, Kenya, Auction Price, US cents per kilogram, From July 1998,Kenya auctions, Best Pekoe Fannings. Prior, London auctions, c.i.f. U.K. warehouses                                                               float64\n",
       "Tin, standard grade, LME spot price, US$ per metric ton                                                                                                                                                                     float64\n",
       "Uranium, NUEXCO, Restricted Price, Nuexco exchange spot, US$ per pound                                                                                                                                                      float64\n",
       "Wheat, No.1 Hard Red Winter, ordinary protein, Kansas City, US$ per metric ton                                                                                                                                              float64\n",
       "Generic 1st 'O ' Future, USD/bushel                                                                                                                                                                                         float64\n",
       "Sorghum; U.S., Number 2 yellow, fob Gulf of Mexico, US cents per pound                                                                                                                                                      float64\n",
       "Wool, coarse, 23 micron, Australian Wool Exchange spot quote, US cents per kilogram                                                                                                                                         float64\n",
       "Wool, fine, 19 micron, Australian Wool Exchange spot quote, US cents per kilogram                                                                                                                                           float64\n",
       "Zinc, high grade 98% pure, US$ per metric ton                                                                                                                                                                               float64\n",
       "Molybdenum, 57 to 63% purity contained in roasted molybdenum concentrate, LME spot price, USD/ton                                                                                                                           float64\n",
       "Cobalt, U.S. cathodes, spot                                                                                                                                                                                                 float64\n",
       "Gold, Fixing Committee of the London Bullion Market Association, London 3 PM fixed price, US$ per troy ounce                                                                                                                float64\n",
       "Silver, London Bullion Market Association, USD/troy ounce                                                                                                                                                                   float64\n",
       "Palladium, LME spot price, USD/ troy ounce                                                                                                                                                                                  float64\n",
       "Platinum, LME spot price, USD/troy ounce                                                                                                                                                                                    float64\n",
       "North American Spot LPG Propane Price/Mont Belvieu LST                                                                                                                                                                      float64\n",
       "US Gulf NOLA Urea Granular Spot Price, USD/ST                                                                                                                                                                               float64\n",
       "Potassium Chloride (Muriate of Potash) Standard Grade: FOB Vancouver Spot Price, USD/metric tonne                                                                                                                           float64\n",
       "US Gulf NOLA DAP Export Spot Price per MT, USD/metric tonne                                                                                                                                                                 float64\n",
       "Monthly average consumer prices in metropolitan France - Tomatoes (1 Kg), EUR                                                                                                                                               float64\n",
       "USDA Class 3 (formerly known as Basic Formula) Milk Spot Price, USD/cwt                                                                                                                                                     float64\n",
       "MCX India Chana Spot, INR/100 Kgs                                                                                                                                                                                           float64\n",
       "Monthly average consumer prices in metropolitan France - Apples (1 Kg), EUR                                                                                                                                                 float64\n",
       "Length: 86, dtype: object"
      ]
     },
     "execution_count": 76,
     "metadata": {},
     "output_type": "execute_result"
    }
   ],
   "source": [
    "clean_comm_df.dtypes"
   ]
  },
  {
   "cell_type": "code",
   "execution_count": 77,
   "metadata": {
    "collapsed": true
   },
   "outputs": [],
   "source": [
    "## Clean up BTC data\n",
    "# Convert time column to datetime and make index\n",
    "BTC_df.index = pd.to_datetime(BTC_df.index)\n",
    "# Label other column"
   ]
  },
  {
   "cell_type": "code",
   "execution_count": 78,
   "metadata": {
    "collapsed": true
   },
   "outputs": [],
   "source": [
    "# Calculate monthly average so it matches commodities data\n",
    "BTC_monthly = BTC_df.resample('M').mean()"
   ]
  },
  {
   "cell_type": "code",
   "execution_count": 79,
   "metadata": {
    "collapsed": true
   },
   "outputs": [],
   "source": [
    "# Drop last row of BTC-monthly because it goes beyond the commodities data \n",
    "BTC_monthly.drop(BTC_monthly.index[-1], inplace=True)"
   ]
  },
  {
   "cell_type": "code",
   "execution_count": 80,
   "metadata": {},
   "outputs": [
    {
     "name": "stdout",
     "output_type": "stream",
     "text": [
      "2019M2\n",
      "2019-02-28 00:00:00\n",
      "2014M3\n",
      "2014-03-31 00:00:00\n",
      "60\n",
      "60\n"
     ]
    }
   ],
   "source": [
    "# Check start and end values\n",
    "print(clean_comm_df.index[-1])\n",
    "print(BTC_monthly.index[-1])\n",
    "print(clean_comm_df.index[0])\n",
    "print(BTC_monthly.index[0])\n",
    "print(len(BTC_monthly.index))\n",
    "print(len(clean_comm_df.index))"
   ]
  },
  {
   "cell_type": "code",
   "execution_count": 81,
   "metadata": {},
   "outputs": [
    {
     "data": {
      "text/plain": [
       "Time\n",
       "2014-03-31    549.933532\n",
       "2014-04-30    463.034015\n",
       "2014-05-31    484.326445\n",
       "2014-06-30    614.984811\n",
       "2014-07-31    618.147352\n",
       "Freq: M, dtype: float64"
      ]
     },
     "execution_count": 81,
     "metadata": {},
     "output_type": "execute_result"
    }
   ],
   "source": [
    "# Create a df that is the averages of the rows\n",
    "mean_BTC_price = BTC_monthly.mean(axis=1, numeric_only=True)\n",
    "mean_BTC_price.head()"
   ]
  },
  {
   "cell_type": "code",
   "execution_count": 82,
   "metadata": {
    "scrolled": true
   },
   "outputs": [],
   "source": [
    "# Append onto commodity data\n",
    "clean_comm_df['Average Bitcoin Price in USD'] = mean_BTC_price.values\n",
    "month_df = clean_comm_df\n",
    "# Clean up index\n",
    "month_df.index = BTC_monthly.index\n"
   ]
  },
  {
   "cell_type": "code",
   "execution_count": 84,
   "metadata": {},
   "outputs": [],
   "source": [
    "# Export data as a csv so I can transfer to Infogram because my SQL skills are not upto piping it in direct :(\n",
    "month_df.round(2)\n",
    "month_df.to_csv(r'C:\\\\Users\\Chris\\Desktop\\Linkbuilder stuff\\TotalCrypto Data\\bitcoin_vs_commodity_data_5yr_rounded.csv')"
   ]
  },
  {
   "cell_type": "markdown",
   "metadata": {},
   "source": [
    "month_df is now the giant dataframe that we can use to compare prices of commodities with BTC. \n",
    "Next section will look at doing some stuff with that data. "
   ]
  },
  {
   "cell_type": "code",
   "execution_count": 167,
   "metadata": {},
   "outputs": [],
   "source": [
    "# This compares BTC with Gold and Platinum\n",
    "month_df_precious = month_df[['Average Bitcoin Price in USD', 'Platinum, LME spot price, USD/troy ounce', 'Gold, Fixing Committee of the London Bullion Market Association, London 3 PM fixed price, US$ per troy ounce']]\n",
    "month_df_precious.columns = ['BTC' , 'Platinum', 'Gold']"
   ]
  },
  {
   "cell_type": "code",
   "execution_count": 168,
   "metadata": {},
   "outputs": [],
   "source": [
    "#Let's look at crude oil price vs. BTC\n",
    "Oil_cols = [col for col in month_df.columns if 'Crude Oil' in col]\n",
    "BTC_col_name = 'Average Bitcoin Price in USD'\n",
    "Oil_df = month_df[Oil_cols + [BTC_col_name]]"
   ]
  },
  {
   "cell_type": "code",
   "execution_count": 158,
   "metadata": {},
   "outputs": [
    {
     "data": {
      "text/plain": [
       "245.0"
      ]
     },
     "execution_count": 158,
     "metadata": {},
     "output_type": "execute_result"
    }
   ],
   "source": [
    "# How many barrels of oil could you buy at peak BTC with a single bitcoin? \n",
    "peak_btc_idx = Oil_df[BTC_col_name].idxmax()\n",
    "(Oil_df.loc[peak_btc_idx][-1]/Oil_df.loc[peak_btc_idx][1]).round(0)"
   ]
  },
  {
   "cell_type": "code",
   "execution_count": 157,
   "metadata": {},
   "outputs": [
    {
     "data": {
      "text/plain": [
       "728.0"
      ]
     },
     "execution_count": 157,
     "metadata": {},
     "output_type": "execute_result"
    }
   ],
   "source": [
    "# Now, how much uraniam would 1BTC have got you? \n",
    "Uranium_cols = [col for col in month_df.columns if 'Uranium' in col]\n",
    "Uranium_df = month_df[Uranium_cols + [BTC_col_name]]\n",
    "(Uranium_df.loc[peak_btc_idx][-1]/Uranium_df.loc[peak_btc_idx][1]).round(0)"
   ]
  },
  {
   "cell_type": "code",
   "execution_count": 169,
   "metadata": {
    "collapsed": true
   },
   "outputs": [],
   "source": [
    "# Now let's actually make some graphs \n",
    "import numpy as np\n",
    "import seaborn as sns"
   ]
  },
  {
   "cell_type": "code",
   "execution_count": null,
   "metadata": {
    "collapsed": true
   },
   "outputs": [],
   "source": []
  }
 ],
 "metadata": {
  "kernelspec": {
   "display_name": "Python 3",
   "language": "python",
   "name": "python3"
  },
  "language_info": {
   "codemirror_mode": {
    "name": "ipython",
    "version": 3
   },
   "file_extension": ".py",
   "mimetype": "text/x-python",
   "name": "python",
   "nbconvert_exporter": "python",
   "pygments_lexer": "ipython3",
   "version": "3.6.3"
  }
 },
 "nbformat": 4,
 "nbformat_minor": 2
}
