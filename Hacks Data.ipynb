{
 "cells": [
  {
   "cell_type": "markdown",
   "metadata": {},
   "source": [
    "# Importing Data"
   ]
  },
  {
   "cell_type": "code",
   "execution_count": 1,
   "metadata": {
    "collapsed": true
   },
   "outputs": [],
   "source": [
    "import os\n",
    "import glob\n",
    "import pandas as pd\n",
    "import numpy as np"
   ]
  },
  {
   "cell_type": "code",
   "execution_count": 2,
   "metadata": {},
   "outputs": [
    {
     "data": {
      "text/plain": [
       "'C:\\\\Users\\\\Chris\\\\Desktop\\\\Linkbuilder stuff\\\\TotalCrypto Data\\\\Hacks'"
      ]
     },
     "execution_count": 2,
     "metadata": {},
     "output_type": "execute_result"
    }
   ],
   "source": [
    "os.chdir('C:\\\\Users\\\\Chris\\\\Desktop\\\\Linkbuilder stuff\\\\TotalCrypto Data\\Hacks')\n",
    "os.getcwd()"
   ]
  },
  {
   "cell_type": "code",
   "execution_count": 3,
   "metadata": {
    "collapsed": true
   },
   "outputs": [],
   "source": [
    "all_data = glob.glob(os.getcwd()+ \"/*.csv\")"
   ]
  },
  {
   "cell_type": "code",
   "execution_count": 52,
   "metadata": {},
   "outputs": [],
   "source": [
    "list_ = []\n",
    "\n",
    "for filename in all_data:\n",
    "    df = pd.read_csv(filename, index_col=0, header=0, parse_dates = True)\n",
    "    list_.append(df)"
   ]
  },
  {
   "cell_type": "code",
   "execution_count": 53,
   "metadata": {},
   "outputs": [],
   "source": [
    "concat = []\n",
    "for x in range(len(list_)):\n",
    "    concat.append(list_[x])\n",
    "\n",
    "frame = pd.concat(concat, axis = 'rows')"
   ]
  },
  {
   "cell_type": "markdown",
   "metadata": {},
   "source": [
    "# Clean Data"
   ]
  },
  {
   "cell_type": "code",
   "execution_count": 54,
   "metadata": {},
   "outputs": [
    {
     "data": {
      "text/plain": [
       "array(['400.000', '5.000.000', '30.000.000', '300.000', '7.000.000',\n",
       "       '30.000.000', '840.000', '3.000.000', '31.000.000', '3.300.000',\n",
       "       '68.000.000', '400.000', '4.000.000', '524.000.000', '150.000',\n",
       "       '1.000.000', '170.000.000', '780.000', '3.300.000', '2.000.000',\n",
       "       '152.000', '18.000.000', '1.650.000', '1.350.000', '10.000.000',\n",
       "       '37.200.000', '31.500.000', '13.500.000', '5.000.000', '7.700.000',\n",
       "       '0', '1.800.000', '24.000.000', '24.000', '24.000', '200.000', '0'],\n",
       "      dtype=object)"
      ]
     },
     "execution_count": 54,
     "metadata": {},
     "output_type": "execute_result"
    }
   ],
   "source": [
    "frame.loc[:,'Amount Stolen'].values"
   ]
  },
  {
   "cell_type": "code",
   "execution_count": 66,
   "metadata": {},
   "outputs": [],
   "source": [
    "# This removes the confusing decimal places from the amounts column\n",
    "amount = frame.loc[:,'Amount Stolen']\n",
    "new_amount = []\n",
    "for x in amount:\n",
    "    #print(x)\n",
    "    new_str = x.replace(\".\", \"\")\n",
    "    new_amount.append(new_str)"
   ]
  },
  {
   "cell_type": "code",
   "execution_count": null,
   "metadata": {},
   "outputs": [],
   "source": [
    "frame.loc[:,'Amount Stolen'] = new_amount"
   ]
  },
  {
   "cell_type": "code",
   "execution_count": 71,
   "metadata": {},
   "outputs": [],
   "source": [
    "# Adds in a missing value \n",
    "frame.loc[37,'Amount Stolen'] = 60000000"
   ]
  },
  {
   "cell_type": "code",
   "execution_count": 80,
   "metadata": {},
   "outputs": [],
   "source": [
    "# Makes the amount column numeric \n",
    "frame.loc[:,'Amount Stolen'] = pd.to_numeric(frame.loc[:,'Amount Stolen'], errors = 'coerce')"
   ]
  },
  {
   "cell_type": "code",
   "execution_count": 122,
   "metadata": {},
   "outputs": [],
   "source": [
    "# Make the index datetime\n",
    "frame.index=pd.to_datetime(frame.Date)"
   ]
  },
  {
   "cell_type": "markdown",
   "metadata": {},
   "source": [
    "# Analyse"
   ]
  },
  {
   "cell_type": "code",
   "execution_count": 128,
   "metadata": {},
   "outputs": [],
   "source": [
    "yearly_totals = frame.resample('Y').sum()\n",
    "monthly_totals = frame.resample('M').sum()"
   ]
  },
  {
   "cell_type": "code",
   "execution_count": null,
   "metadata": {
    "collapsed": true
   },
   "outputs": [],
   "source": []
  }
 ],
 "metadata": {
  "kernelspec": {
   "display_name": "Python 3",
   "language": "python",
   "name": "python3"
  },
  "language_info": {
   "codemirror_mode": {
    "name": "ipython",
    "version": 3
   },
   "file_extension": ".py",
   "mimetype": "text/x-python",
   "name": "python",
   "nbconvert_exporter": "python",
   "pygments_lexer": "ipython3",
   "version": "3.6.3"
  }
 },
 "nbformat": 4,
 "nbformat_minor": 2
}
