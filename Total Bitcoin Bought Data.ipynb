{
 "cells": [
  {
   "cell_type": "code",
   "execution_count": 1,
   "metadata": {
    "collapsed": true
   },
   "outputs": [],
   "source": [
    "import os\n",
    "import glob\n",
    "import pandas as pd\n",
    "import numpy as np"
   ]
  },
  {
   "cell_type": "code",
   "execution_count": 2,
   "metadata": {},
   "outputs": [
    {
     "data": {
      "text/plain": [
       "'C:\\\\Users\\\\Chris\\\\Desktop\\\\Linkbuilder stuff\\\\TotalCrypto Data\\\\data on bitcoins bought'"
      ]
     },
     "execution_count": 2,
     "metadata": {},
     "output_type": "execute_result"
    }
   ],
   "source": [
    "os.chdir('C:\\\\Users\\\\Chris\\\\Desktop\\\\Linkbuilder stuff\\\\TotalCrypto Data\\data on bitcoins bought')\n",
    "os.getcwd()"
   ]
  },
  {
   "cell_type": "markdown",
   "metadata": {},
   "source": [
    "## Getting Data Together"
   ]
  },
  {
   "cell_type": "code",
   "execution_count": 3,
   "metadata": {
    "collapsed": true
   },
   "outputs": [],
   "source": [
    "all_data = glob.glob(os.getcwd()+ \"/*.xls\")"
   ]
  },
  {
   "cell_type": "code",
   "execution_count": 4,
   "metadata": {
    "collapsed": true
   },
   "outputs": [],
   "source": [
    "list_ = []\n",
    "\n",
    "for filename in all_data:\n",
    "    df = pd.read_html(filename, index_col=0, header=0, parse_dates = True)\n",
    "    list_.append(df)\n"
   ]
  },
  {
   "cell_type": "code",
   "execution_count": 5,
   "metadata": {
    "collapsed": true
   },
   "outputs": [],
   "source": [
    "concat = []\n",
    "for x in range(len(list_)):\n",
    "    concat.append(list_[x][0])\n",
    "\n",
    "frame = pd.concat(concat, axis = 'columns')"
   ]
  },
  {
   "cell_type": "code",
   "execution_count": 6,
   "metadata": {},
   "outputs": [
    {
     "data": {
      "text/html": [
       "<div>\n",
       "<style scoped>\n",
       "    .dataframe tbody tr th:only-of-type {\n",
       "        vertical-align: middle;\n",
       "    }\n",
       "\n",
       "    .dataframe tbody tr th {\n",
       "        vertical-align: top;\n",
       "    }\n",
       "\n",
       "    .dataframe thead th {\n",
       "        text-align: right;\n",
       "    }\n",
       "</style>\n",
       "<table border=\"1\" class=\"dataframe\">\n",
       "  <thead>\n",
       "    <tr style=\"text-align: right;\">\n",
       "      <th></th>\n",
       "      <th>Bisq_BTC</th>\n",
       "      <th>Bisq_USD</th>\n",
       "      <th>Local_Bitcoins_BTC</th>\n",
       "      <th>Local_Bitcoins_USD</th>\n",
       "      <th>Paxful_BTC</th>\n",
       "      <th>Paxful_USD</th>\n",
       "    </tr>\n",
       "    <tr>\n",
       "      <th>Label</th>\n",
       "      <th></th>\n",
       "      <th></th>\n",
       "      <th></th>\n",
       "      <th></th>\n",
       "      <th></th>\n",
       "      <th></th>\n",
       "    </tr>\n",
       "  </thead>\n",
       "  <tbody>\n",
       "    <tr>\n",
       "      <th>2013-03-16</th>\n",
       "      <td>0.0</td>\n",
       "      <td>0.0</td>\n",
       "      <td>1995.09</td>\n",
       "      <td>87724</td>\n",
       "      <td>0.0</td>\n",
       "      <td>0.0</td>\n",
       "    </tr>\n",
       "    <tr>\n",
       "      <th>2013-03-23</th>\n",
       "      <td>0.0</td>\n",
       "      <td>0.0</td>\n",
       "      <td>3446.16</td>\n",
       "      <td>160281</td>\n",
       "      <td>0.0</td>\n",
       "      <td>0.0</td>\n",
       "    </tr>\n",
       "    <tr>\n",
       "      <th>2013-03-30</th>\n",
       "      <td>0.0</td>\n",
       "      <td>0.0</td>\n",
       "      <td>2520.35</td>\n",
       "      <td>166149</td>\n",
       "      <td>0.0</td>\n",
       "      <td>0.0</td>\n",
       "    </tr>\n",
       "    <tr>\n",
       "      <th>2013-04-06</th>\n",
       "      <td>0.0</td>\n",
       "      <td>0.0</td>\n",
       "      <td>3489.42</td>\n",
       "      <td>310090</td>\n",
       "      <td>0.0</td>\n",
       "      <td>0.0</td>\n",
       "    </tr>\n",
       "    <tr>\n",
       "      <th>2013-04-13</th>\n",
       "      <td>0.0</td>\n",
       "      <td>0.0</td>\n",
       "      <td>4460.55</td>\n",
       "      <td>623483</td>\n",
       "      <td>0.0</td>\n",
       "      <td>0.0</td>\n",
       "    </tr>\n",
       "  </tbody>\n",
       "</table>\n",
       "</div>"
      ],
      "text/plain": [
       "            Bisq_BTC  Bisq_USD  Local_Bitcoins_BTC  Local_Bitcoins_USD  \\\n",
       "Label                                                                    \n",
       "2013-03-16       0.0       0.0             1995.09               87724   \n",
       "2013-03-23       0.0       0.0             3446.16              160281   \n",
       "2013-03-30       0.0       0.0             2520.35              166149   \n",
       "2013-04-06       0.0       0.0             3489.42              310090   \n",
       "2013-04-13       0.0       0.0             4460.55              623483   \n",
       "\n",
       "            Paxful_BTC  Paxful_USD  \n",
       "Label                               \n",
       "2013-03-16         0.0         0.0  \n",
       "2013-03-23         0.0         0.0  \n",
       "2013-03-30         0.0         0.0  \n",
       "2013-04-06         0.0         0.0  \n",
       "2013-04-13         0.0         0.0  "
      ]
     },
     "execution_count": 6,
     "metadata": {},
     "output_type": "execute_result"
    }
   ],
   "source": [
    "frame = frame.fillna(0)\n",
    "frame.columns = ['Bisq_BTC', 'Bisq_USD', 'Local_Bitcoins_BTC', 'Local_Bitcoins_USD', 'Paxful_BTC', 'Paxful_USD']\n",
    "frame.head()"
   ]
  },
  {
   "cell_type": "code",
   "execution_count": 7,
   "metadata": {
    "collapsed": true
   },
   "outputs": [],
   "source": [
    "BTC_df = frame.loc[:,['Bisq_BTC','Local_Bitcoins_BTC','Paxful_BTC']]\n",
    "USD_df = frame.loc[:,['Bisq_USD','Local_Bitcoins_USD','Paxful_USD']]"
   ]
  },
  {
   "cell_type": "code",
   "execution_count": 8,
   "metadata": {},
   "outputs": [],
   "source": [
    "mnthly_avg_BTC = BTC_df.resample('M').sum()\n",
    "mnthly_avg_USD = USD_df.resample('M').sum()\n",
    "focus_BTC = mnthly_avg_BTC.truncate(after = '2019-03-31 00:00:00', before = '2016-04-30 00:00:00', axis = 'rows')\n",
    "focus_USD = mnthly_avg_USD.truncate(after = '2019-03-31 00:00:00', before = '2016-04-30 00:00:00', axis = 'rows')"
   ]
  },
  {
   "cell_type": "code",
   "execution_count": 9,
   "metadata": {},
   "outputs": [],
   "source": [
    "focus_BTC['total'] = focus_BTC.sum(1)\n",
    "focus_USD['total'] = focus_USD.sum(1)"
   ]
  },
  {
   "cell_type": "code",
   "execution_count": 11,
   "metadata": {},
   "outputs": [],
   "source": [
    "# Output totals for simple infograpic \n",
    "focus_USD.total.round(1).to_csv('USD_Total.csv')\n",
    "focus_BTC.loc[:, 'total'].round(1).to_csv('BTC_Total.csv')"
   ]
  },
  {
   "cell_type": "markdown",
   "metadata": {},
   "source": [
    "## Plot Data"
   ]
  },
  {
   "cell_type": "code",
   "execution_count": 13,
   "metadata": {
    "collapsed": true
   },
   "outputs": [],
   "source": [
    "import matplotlib.pyplot as plt\n",
    "%matplotlib inline  "
   ]
  },
  {
   "cell_type": "code",
   "execution_count": 14,
   "metadata": {},
   "outputs": [
    {
     "data": {
      "text/plain": [
       "[<matplotlib.lines.Line2D at 0x24cb87790b8>]"
      ]
     },
     "execution_count": 14,
     "metadata": {},
     "output_type": "execute_result"
    },
    {
     "data": {
      "image/png": "[encoded data removed]",
      "text/plain": [
       "<matplotlib.figure.Figure at 0x24cb86318d0>"
      ]
     },
     "metadata": {},
     "output_type": "display_data"
    }
   ],
   "source": [
    "plt.figure(1)\n",
    "plt.subplot(211)\n",
    "plt.plot(focus_BTC.total)\n",
    "plt.subplot(212)\n",
    "plt.plot(focus_USD.total)"
   ]
  },
  {
   "cell_type": "code",
   "execution_count": null,
   "metadata": {
    "collapsed": true
   },
   "outputs": [],
   "source": []
  }
 ],
 "metadata": {
  "kernelspec": {
   "display_name": "Python 3",
   "language": "python",
   "name": "python3"
  },
  "language_info": {
   "codemirror_mode": {
    "name": "ipython",
    "version": 3
   },
   "file_extension": ".py",
   "mimetype": "text/x-python",
   "name": "python",
   "nbconvert_exporter": "python",
   "pygments_lexer": "ipython3",
   "version": "3.6.3"
  }
 },
 "nbformat": 4,
 "nbformat_minor": 2
}
